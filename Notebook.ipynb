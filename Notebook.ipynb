{
  "nbformat": 4,
  "nbformat_minor": 0,
  "metadata": {
    "colab": {
      "name": "Notebook",
      "provenance": [],
      "collapsed_sections": [],
      "toc_visible": true
    },
    "kernelspec": {
      "name": "python3",
      "display_name": "Python 3"
    },
    "language_info": {
      "name": "python"
    }
  },
  "cells": [
    {
      "cell_type": "markdown",
      "metadata": {
        "id": "FA-qVjFWx6fa"
      },
      "source": [
        "Preparation"
      ]
    },
    {
      "cell_type": "code",
      "metadata": {
        "id": "vD5M1pF3vBTd"
      },
      "source": [
        "! rm -rf DPiP_project # delete in case it was cloned before\n",
        "! git clone https://github.com/hengoe/DPiP_project.git \n",
        "from DPiP_project.code import *\n",
        "\n",
        "# create test folder\n",
        "!mkdir test_folder\n",
        "!mkdir test_folder/data\n",
        "!mkdir test_folder/models"
      ],
      "execution_count": null,
      "outputs": []
    },
    {
      "cell_type": "markdown",
      "metadata": {
        "id": "s7rodpwpQTae"
      },
      "source": [
        "## Introduction"
      ]
    },
    {
      "cell_type": "markdown",
      "metadata": {
        "id": "8b0al8seQV08"
      },
      "source": [
        "For this project, we wanted to create functionality to \n",
        "1. retrieve tweets from twitter containing a specific topic_key and\n",
        "2. analyze these tweets regarding their sentiment.\n",
        "\n",
        "For data retrieval we introduced the DataRetriever class providing functionality to retrieve training data as well as realistic data from twitter. Both can be saved as csv for later.\n",
        "For the analysis part, we introduced three classes, namely Models, ModelTrainer and ModelApplier. Models is the parent class of the other both and contains common utilities. ModelTrainer can be used to train a classifier on the training data and save the model for later usage. ModelApplier can be used to load a pretrained model and classify new realistic data. It allows to get an impression of the overall sentiment represented in tweets on the topic_key. Thus, a model can once be trained and later on loaded multiple times to classify new tweets regarding the same topic key. For example, a company could use this to get Twitter's current sentiment towards the company and track results over time. \n",
        "\n",
        "Useful graphics are provided in order to evaluate the goodness of the classifier and interpret results of classifying new data."
      ]
    },
    {
      "cell_type": "markdown",
      "metadata": {
        "id": "3XDsOs7sP1tf"
      },
      "source": [
        "## Data Retrieval"
      ]
    },
    {
      "cell_type": "markdown",
      "metadata": {
        "id": "Gmg3lwB1DX2c"
      },
      "source": [
        "The first step in the project -- data retrieving -- starts with initializing access token and secret, consumer key and secret, and initializing DataRetriver class (used to retrieve data for the training set and realistic data). "
      ]
    },
    {
      "cell_type": "code",
      "metadata": {
        "id": "VWsu3du7wWn3"
      },
      "source": [
        "# initialize DataRetriever\n",
        "access_token = ''\n",
        "access_token_secret = ''\n",
        "\n",
        "consumer_key = ''\n",
        "consumer_secret = ''\n",
        "\n",
        "retr = DataRetriever()"
      ],
      "execution_count": null,
      "outputs": []
    },
    {
      "cell_type": "markdown",
      "metadata": {
        "id": "L0UnYCe9P54q"
      },
      "source": [
        "### Getting Training Data for the Classifier"
      ]
    },
    {
      "cell_type": "markdown",
      "metadata": {
        "id": "vgQxUwizD9mu"
      },
      "source": [
        "The model that later performs the sentiment analysis must be trained beforehand. For this, data is retrieved based on the topic_key (here: \"McDonald's\") and two keys representing the positive and negative sentiment of the tweets. pos_key and neg_key are by default set to \":)\" and \":(\". One could e.g. replace them by \"happy\" and \"sad\" or \"good\" and \"bad\". \n",
        "\n",
        "Retrieving training data that likely has positive/negative sentiment is important to train the classifier. Specifically, the number of tweets with positive and negative sentiment should be roughly the same. Therefore, the function will automatically retrieve approximately the same amount of \n",
        "1. tweets that include the topic_key and pos_key and \n",
        "2. tweets that include the topic_key and neg_key. \n",
        "\n",
        "After retrieval all keywords are deleted from the tweets. If the positive and negative keywords remained in the tweets the classifier would fastly recognize them. This would lead to bad out-of-sample performance, which is the main target of the project - to classify new tweets that do not necessarily contain our positive/negative keywords.\n",
        "\n",
        "The data can be saved for further analysis (in pandas dataframe). It includes time, twitter id, text and label (1 -- positive, 0 -- negative). All tweets are in English language so that the classifier can be trained successfully and the pretrained wort embedding matches the words used in the tweets."
      ]
    },
    {
      "cell_type": "code",
      "metadata": {
        "id": "NacKMPMgqwQh"
      },
      "source": [
        "# get training data\n",
        "training_data = retr.get_training_data(access_token=f\"{access_token}\", access_token_secret=f\"{access_token_secret}\",\n",
        "                              consumer_key=f\"{consumer_key}\", consumer_secret=f\"{consumer_secret}\", \n",
        "                              topic_key=\"McDonald's\", N=5000, save_to_csv=True, file_path=\"/content/test_folder/data/\")\n"
      ],
      "execution_count": null,
      "outputs": []
    },
    {
      "cell_type": "markdown",
      "metadata": {
        "id": "KgNR3evqLle9"
      },
      "source": [
        "The retrieved data can be accessed via the training_data field of the DataRetriever class. Since duplicates are removed it may happen that there are a few less tweets than initially wanted although we introduced a buffer."
      ]
    },
    {
      "cell_type": "code",
      "metadata": {
        "colab": {
          "base_uri": "https://localhost:8080/",
          "height": 204
        },
        "id": "dz5qDDi5y0ox",
        "outputId": "4a295020-8f73-4094-f6d0-46f38df3a745"
      },
      "source": [
        "retr.training_data.head()"
      ],
      "execution_count": null,
      "outputs": [
        {
          "output_type": "execute_result",
          "data": {
            "text/html": [
              "<div>\n",
              "<style scoped>\n",
              "    .dataframe tbody tr th:only-of-type {\n",
              "        vertical-align: middle;\n",
              "    }\n",
              "\n",
              "    .dataframe tbody tr th {\n",
              "        vertical-align: top;\n",
              "    }\n",
              "\n",
              "    .dataframe thead th {\n",
              "        text-align: right;\n",
              "    }\n",
              "</style>\n",
              "<table border=\"1\" class=\"dataframe\">\n",
              "  <thead>\n",
              "    <tr style=\"text-align: right;\">\n",
              "      <th></th>\n",
              "      <th>time</th>\n",
              "      <th>id</th>\n",
              "      <th>text</th>\n",
              "      <th>label</th>\n",
              "    </tr>\n",
              "  </thead>\n",
              "  <tbody>\n",
              "    <tr>\n",
              "      <th>0</th>\n",
              "      <td>2021-09-02 12:04:37</td>\n",
              "      <td>1433400466931597317</td>\n",
              "      <td>Justin gonna do baaaad things to Chandler man ...</td>\n",
              "      <td>0</td>\n",
              "    </tr>\n",
              "    <tr>\n",
              "      <th>1</th>\n",
              "      <td>2021-09-02 12:04:37</td>\n",
              "      <td>1433400466700787718</td>\n",
              "      <td>@ddacoups omg aya i really hope youre okay   p...</td>\n",
              "      <td>0</td>\n",
              "    </tr>\n",
              "    <tr>\n",
              "      <th>2</th>\n",
              "      <td>2021-09-02 12:04:37</td>\n",
              "      <td>1433400466214473729</td>\n",
              "      <td>@yngjluvr watch if you want, don't if you can'...</td>\n",
              "      <td>0</td>\n",
              "    </tr>\n",
              "    <tr>\n",
              "      <th>3</th>\n",
              "      <td>2021-09-02 12:04:36</td>\n",
              "      <td>1433400464515739649</td>\n",
              "      <td>@icy_h9t He solo'd  me and made me put on this...</td>\n",
              "      <td>0</td>\n",
              "    </tr>\n",
              "    <tr>\n",
              "      <th>4</th>\n",
              "      <td>2021-09-02 12:04:36</td>\n",
              "      <td>1433400463471247366</td>\n",
              "      <td>@taeminsdeaIer Bae what is happening?  (</td>\n",
              "      <td>0</td>\n",
              "    </tr>\n",
              "  </tbody>\n",
              "</table>\n",
              "</div>"
            ],
            "text/plain": [
              "                 time  ...  label\n",
              "0 2021-09-02 12:04:37  ...      0\n",
              "1 2021-09-02 12:04:37  ...      0\n",
              "2 2021-09-02 12:04:37  ...      0\n",
              "3 2021-09-02 12:04:36  ...      0\n",
              "4 2021-09-02 12:04:36  ...      0\n",
              "\n",
              "[5 rows x 4 columns]"
            ]
          },
          "metadata": {},
          "execution_count": 27
        }
      ]
    },
    {
      "cell_type": "markdown",
      "metadata": {
        "id": "H4fuSc9g-zO5"
      },
      "source": [
        "### Getting realistic data for information gain"
      ]
    },
    {
      "cell_type": "markdown",
      "metadata": {
        "id": "OPf6ZexXNi0o"
      },
      "source": [
        "For the company - in our example McDonald's - it is interesting to know the current sentiment that twitter users have about them. Thus, it makes sense to also be able to retrieve realistic data representing all tweets that are posted regarding the topic_key, regardless of positive or negative sentiment. Just like this, a realistic overview on the overall sentiment towards the topic_key can be obtained.\n",
        "\n",
        "This is why get_realistic_data only retrieves tweets that have topic_key in the text. Again, the data can be saved to csv for later usage."
      ]
    },
    {
      "cell_type": "code",
      "metadata": {
        "id": "K_XRfJa0qyxx",
        "colab": {
          "base_uri": "https://localhost:8080/"
        },
        "outputId": "4336f031-ab0e-46f7-c8af-44b26c97aa89"
      },
      "source": [
        "# get realistic data\n",
        "real_data = retr.get_realistic_data(access_token=access_token, access_token_secret=access_token_secret,\n",
        "                              consumer_key=consumer_key, consumer_secret=consumer_secret,\n",
        "                              topic_key=\"McDonald's\", N=1000, save_to_csv=True, file_path=\"/content/test_folder/data/\")"
      ],
      "execution_count": null,
      "outputs": [
        {
          "output_type": "stream",
          "text": [
            "Rate limit reached. Sleeping for: 233\n"
          ],
          "name": "stderr"
        }
      ]
    },
    {
      "cell_type": "markdown",
      "metadata": {
        "id": "YqcCUBtn7ubd"
      },
      "source": [
        "The realistic data can be accessed as follows. As one can see, there is no label indicating the sentiment of the tweet - because we do not know it."
      ]
    },
    {
      "cell_type": "code",
      "metadata": {
        "colab": {
          "base_uri": "https://localhost:8080/",
          "height": 204
        },
        "id": "UTROqWgf0zf7",
        "outputId": "9fecdcdc-bcc2-4a49-cdae-dfd59483eb30"
      },
      "source": [
        "retr.realistic_data.head()"
      ],
      "execution_count": null,
      "outputs": [
        {
          "output_type": "execute_result",
          "data": {
            "text/html": [
              "<div>\n",
              "<style scoped>\n",
              "    .dataframe tbody tr th:only-of-type {\n",
              "        vertical-align: middle;\n",
              "    }\n",
              "\n",
              "    .dataframe tbody tr th {\n",
              "        vertical-align: top;\n",
              "    }\n",
              "\n",
              "    .dataframe thead th {\n",
              "        text-align: right;\n",
              "    }\n",
              "</style>\n",
              "<table border=\"1\" class=\"dataframe\">\n",
              "  <thead>\n",
              "    <tr style=\"text-align: right;\">\n",
              "      <th></th>\n",
              "      <th>time</th>\n",
              "      <th>id</th>\n",
              "      <th>text</th>\n",
              "    </tr>\n",
              "  </thead>\n",
              "  <tbody>\n",
              "    <tr>\n",
              "      <th>0</th>\n",
              "      <td>2021-09-02 12:44:39</td>\n",
              "      <td>1433410544040435717</td>\n",
              "      <td>RT @crackcobain__: McDonald’s breakfast deserv...</td>\n",
              "    </tr>\n",
              "    <tr>\n",
              "      <th>1</th>\n",
              "      <td>2021-09-02 12:44:36</td>\n",
              "      <td>1433410528894988289</td>\n",
              "      <td>@plankdaddy @Whiteboyramen1 @sherman21 @Robill...</td>\n",
              "    </tr>\n",
              "    <tr>\n",
              "      <th>2</th>\n",
              "      <td>2021-09-02 12:44:21</td>\n",
              "      <td>1433410466404053003</td>\n",
              "      <td>RT @CieThePisces: @YoungJazzyHo @TMZ Someone c...</td>\n",
              "    </tr>\n",
              "    <tr>\n",
              "      <th>3</th>\n",
              "      <td>2021-09-02 12:44:19</td>\n",
              "      <td>1433410457633701892</td>\n",
              "      <td>McDonald’s has an iced pumpkin spice coffee an...</td>\n",
              "    </tr>\n",
              "    <tr>\n",
              "      <th>4</th>\n",
              "      <td>2021-09-02 12:44:15</td>\n",
              "      <td>1433410440009326594</td>\n",
              "      <td>RT @JJHTweets: This hasn't aged well.... @Nige...</td>\n",
              "    </tr>\n",
              "  </tbody>\n",
              "</table>\n",
              "</div>"
            ],
            "text/plain": [
              "                 time  ...                                               text\n",
              "0 2021-09-02 12:44:39  ...  RT @crackcobain__: McDonald’s breakfast deserv...\n",
              "1 2021-09-02 12:44:36  ...  @plankdaddy @Whiteboyramen1 @sherman21 @Robill...\n",
              "2 2021-09-02 12:44:21  ...  RT @CieThePisces: @YoungJazzyHo @TMZ Someone c...\n",
              "3 2021-09-02 12:44:19  ...  McDonald’s has an iced pumpkin spice coffee an...\n",
              "4 2021-09-02 12:44:15  ...  RT @JJHTweets: This hasn't aged well.... @Nige...\n",
              "\n",
              "[5 rows x 3 columns]"
            ]
          },
          "metadata": {},
          "execution_count": 28
        }
      ]
    },
    {
      "cell_type": "markdown",
      "metadata": {
        "id": "ASS3VLvyyXZL"
      },
      "source": [
        "## Let's get to training and applying the classifier"
      ]
    },
    {
      "cell_type": "markdown",
      "metadata": {
        "id": "i4webkkq-prk"
      },
      "source": [
        "### Model Training"
      ]
    },
    {
      "cell_type": "markdown",
      "metadata": {
        "id": "FBskoPVrDn2j"
      },
      "source": [
        "Initialize that ModelTrainer with the data you want to analyze and feed it with the column names for the column with the tweets and the one with the target labels."
      ]
    },
    {
      "cell_type": "code",
      "metadata": {
        "id": "PujIZU9EDaxI"
      },
      "source": [
        "glove_path = \"/content/DPiP_project/glove.6B.50d.txt\" # pretrained word embedding\n",
        "\n",
        "# create model class instance\n",
        "mtrainer = ModelTrainer(raw_data=retr.training_data, model_folder_path=\"/content/test_folder/models/\", \n",
        "                        colname_tweets=\"text\", colname_label=\"label\")\n"
      ],
      "execution_count": null,
      "outputs": []
    },
    {
      "cell_type": "markdown",
      "metadata": {
        "id": "77J6ao8QD0kl"
      },
      "source": [
        "#### Explanation of the function train_model_on_data\n",
        "Train the model. With optional arguments it is possible to set different model specifications and find the one that results in the best model. This includes lstm sizes, dropout rates, epochs of training and batch size.\n",
        "#### Overfitting graph\n",
        "This graph allows to judge the training of the model. Specifically, overfitting, which is a huge problem of deep neural networks, can be detected and the training specifications can be adjusted for the next round of training. Overfitting is indicated by a better accuracy (left graph) on the training than on the testing data or by an increasing loss in the right graph. \n",
        "If overfitting occurs, possible steps to take would be e.g. to decrease the lstm size, increase the dropout rate or train for a smaller amount of epochs."
      ]
    },
    {
      "cell_type": "code",
      "metadata": {
        "colab": {
          "base_uri": "https://localhost:8080/",
          "height": 746
        },
        "id": "8PZT42TwDc8n",
        "outputId": "dd832c5d-2267-40c7-f72e-61674e7d0268"
      },
      "source": [
        "mtrainer.train_model_on_data(glove_path=glove_path, overfitting_plot=True, save_model=True, lstm_size=64, \n",
        "                             dropout_rate=0.5, n_epochs=7, batch_size=64)    "
      ],
      "execution_count": null,
      "outputs": [
        {
          "output_type": "stream",
          "text": [
            "Shape of ... Training Data:  (3088, 6)  ... Final Evaluation Data:  (344, 6)\n",
            "There were 5573 unique words found.\n",
            "Epoch 1/7\n",
            "39/39 [==============================] - 8s 81ms/step - loss: 0.6608 - binary_accuracy: 0.6036 - true_negatives_5: 603.0000 - true_positives_5: 888.0000 - false_negatives_5: 412.0000 - false_positives_5: 567.0000 - val_loss: 0.6206 - val_binary_accuracy: 0.6634 - val_true_negatives_5: 213.0000 - val_true_positives_5: 197.0000 - val_false_negatives_5: 141.0000 - val_false_positives_5: 67.0000\n",
            "Epoch 2/7\n",
            "39/39 [==============================] - 2s 61ms/step - loss: 0.6150 - binary_accuracy: 0.6696 - true_negatives_5: 862.0000 - true_positives_5: 792.0000 - false_negatives_5: 508.0000 - false_positives_5: 308.0000 - val_loss: 0.5960 - val_binary_accuracy: 0.6974 - val_true_negatives_5: 241.0000 - val_true_positives_5: 190.0000 - val_false_negatives_5: 148.0000 - val_false_positives_5: 39.0000\n",
            "Epoch 3/7\n",
            "39/39 [==============================] - 2s 46ms/step - loss: 0.5886 - binary_accuracy: 0.7004 - true_negatives_5: 876.0000 - true_positives_5: 854.0000 - false_negatives_5: 446.0000 - false_positives_5: 294.0000 - val_loss: 0.5690 - val_binary_accuracy: 0.7168 - val_true_negatives_5: 224.0000 - val_true_positives_5: 219.0000 - val_false_negatives_5: 119.0000 - val_false_positives_5: 56.0000\n",
            "Epoch 4/7\n",
            "39/39 [==============================] - 2s 45ms/step - loss: 0.5682 - binary_accuracy: 0.7073 - true_negatives_5: 874.0000 - true_positives_5: 873.0000 - false_negatives_5: 427.0000 - false_positives_5: 296.0000 - val_loss: 0.5659 - val_binary_accuracy: 0.7249 - val_true_negatives_5: 227.0000 - val_true_positives_5: 221.0000 - val_false_negatives_5: 117.0000 - val_false_positives_5: 53.0000\n",
            "Epoch 5/7\n",
            "39/39 [==============================] - 2s 45ms/step - loss: 0.5560 - binary_accuracy: 0.7101 - true_negatives_5: 866.0000 - true_positives_5: 888.0000 - false_negatives_5: 412.0000 - false_positives_5: 304.0000 - val_loss: 0.5488 - val_binary_accuracy: 0.7314 - val_true_negatives_5: 209.0000 - val_true_positives_5: 243.0000 - val_false_negatives_5: 95.0000 - val_false_positives_5: 71.0000\n",
            "Epoch 6/7\n",
            "39/39 [==============================] - 2s 46ms/step - loss: 0.5328 - binary_accuracy: 0.7332 - true_negatives_5: 892.0000 - true_positives_5: 919.0000 - false_negatives_5: 381.0000 - false_positives_5: 278.0000 - val_loss: 0.5460 - val_binary_accuracy: 0.7346 - val_true_negatives_5: 209.0000 - val_true_positives_5: 245.0000 - val_false_negatives_5: 93.0000 - val_false_positives_5: 71.0000\n",
            "Epoch 7/7\n",
            "39/39 [==============================] - 2s 51ms/step - loss: 0.5198 - binary_accuracy: 0.7356 - true_negatives_5: 863.0000 - true_positives_5: 954.0000 - false_negatives_5: 346.0000 - false_positives_5: 307.0000 - val_loss: 0.5503 - val_binary_accuracy: 0.7362 - val_true_negatives_5: 214.0000 - val_true_positives_5: 241.0000 - val_false_negatives_5: 97.0000 - val_false_positives_5: 66.0000\n"
          ],
          "name": "stdout"
        },
        {
          "output_type": "stream",
          "text": [
            "WARNING:matplotlib.legend:No handles with labels found to put in legend.\n",
            "WARNING:absl:Found untraced functions such as lstm_cell_12_layer_call_fn, lstm_cell_12_layer_call_and_return_conditional_losses, lstm_cell_13_layer_call_fn, lstm_cell_13_layer_call_and_return_conditional_losses, lstm_cell_12_layer_call_fn while saving (showing 5 of 10). These functions will not be directly callable after loading.\n"
          ],
          "name": "stderr"
        },
        {
          "output_type": "stream",
          "text": [
            "INFO:tensorflow:Assets written to: /content/test_folder/models//model/assets\n"
          ],
          "name": "stdout"
        },
        {
          "output_type": "stream",
          "text": [
            "INFO:tensorflow:Assets written to: /content/test_folder/models//model/assets\n"
          ],
          "name": "stderr"
        },
        {
          "output_type": "execute_result",
          "data": {
            "text/plain": [
              "<keras.engine.sequential.Sequential at 0x7fefcbb55950>"
            ]
          },
          "metadata": {},
          "execution_count": 21
        },
        {
          "output_type": "display_data",
          "data": {
            "image/png": "[encoded data removed]",
            "text/plain": [
              "<Figure size 720x360 with 2 Axes>"
            ]
          },
          "metadata": {}
        }
      ]
    },
    {
      "cell_type": "markdown",
      "metadata": {
        "id": "pjZcsi3_ECGV"
      },
      "source": [
        "#### Explanation of the function evaluate_out_of_sample and the returned dataframe\n",
        "For classifier models it is very important to evaluate their performance out-of-sample. The model is trained on 90% of the data and 10% are automatically held back and never shown to the classifier. With evaluate_out_of_sample() the model's performance on these 10% can be evaluated. It returns the predictions dataframe containing the original tweets with the assigned label as well as the probability for the positive label. With this probability it can be seen how \"sure\" the model is about the prediction. A value close to 0 shows a quite negative sentiment, a values close to 1 a positive. Values in the middle suggest that the classifier ist not quite certain about the tweet's sentiment.\n",
        "### Confusion Matrix\n",
        "With the aid of the confusion matrix, the share of correctly and incorrectly classified tweets can be seen clearly.\n",
        "### Distribution of predicted probabilities for positive sentiment\n",
        "The other graph displaying the distribution of predicted probabilities allows to draw conclusions on the overall sentiment of the predicted tweets. A right-skewed distribution shows a rather positive overall sentiment. A rather even distribution would suggest that there is no clear tendency in the tweets."
      ]
    },
    {
      "cell_type": "code",
      "metadata": {
        "id": "m82EAyWMDexz",
        "colab": {
          "base_uri": "https://localhost:8080/",
          "height": 757
        },
        "outputId": "7ea424a4-d07f-4b20-d4ae-754436542c7b"
      },
      "source": [
        "mtrainer.evaluate_out_of_sample(return_predictions=True, confusion_matrix=True, predictions_histogram=True)"
      ],
      "execution_count": null,
      "outputs": [
        {
          "output_type": "stream",
          "text": [
            "11/11 [==============================] - 0s 10ms/step - loss: 0.5603 - binary_accuracy: 0.7355 - true_negatives_5: 114.0000 - true_positives_5: 139.0000 - false_negatives_5: 46.0000 - false_positives_5: 45.0000\n"
          ],
          "name": "stdout"
        },
        {
          "output_type": "display_data",
          "data": {
            "image/png": "[encoded data removed]",
            "text/plain": [
              "<Figure size 288x288 with 2 Axes>"
            ]
          },
          "metadata": {}
        },
        {
          "output_type": "display_data",
          "data": {
            "image/png": "[encoded data removed]",
            "text/plain": [
              "<Figure size 648x504 with 1 Axes>"
            ]
          },
          "metadata": {}
        }
      ]
    },
    {
      "cell_type": "markdown",
      "metadata": {
        "id": "5cp-vDcb-WD8"
      },
      "source": [
        "### Application of the trained model"
      ]
    },
    {
      "cell_type": "markdown",
      "metadata": {
        "id": "N7BKXDOo_FfI"
      },
      "source": [
        "Now, it's time to apply the trained model to realistic data and have a look at the classification it produces."
      ]
    },
    {
      "cell_type": "code",
      "metadata": {
        "colab": {
          "base_uri": "https://localhost:8080/",
          "height": 479
        },
        "id": "YufyZ6NIDdZk",
        "outputId": "3b0ab6de-73f5-48b4-a247-6543af20a224"
      },
      "source": [
        "mapplier = ModelApplier(raw_data=retr.realistic_data, model_folder_path=\"/content/test_folder/models/\", colname_tweets=\"text\")\n",
        "\n",
        "mapplier.predict_new_data()"
      ],
      "execution_count": null,
      "outputs": [
        {
          "output_type": "stream",
          "text": [
            "29/29 [==============================] - 1s 1ms/step - loss: 0.0000e+00 - binary_accuracy: 0.0000e+00 - true_negatives_5: 0.0000e+00 - true_positives_5: 0.0000e+00 - false_negatives_5: 0.0000e+00 - false_positives_5: 0.0000e+00\n"
          ],
          "name": "stdout"
        },
        {
          "output_type": "display_data",
          "data": {
            "image/png": "[encoded data removed]",
            "text/plain": [
              "<Figure size 648x504 with 1 Axes>"
            ]
          },
          "metadata": {}
        }
      ]
    },
    {
      "cell_type": "markdown",
      "metadata": {
        "id": "FNS9qqWb_QW5"
      },
      "source": [
        "Under predicted_df one can find the original tweets along with their predicted probability for a positive sentiment. Thus, for probabilities <0.5 we assign a negative label and for >0.5 a positive label. \n",
        "\n",
        "In above graph one can detect tendencies, e.g. when the distribution is rather right-scewed the overall sentiment towards the topic_key can be assumend to be rather positive. "
      ]
    },
    {
      "cell_type": "code",
      "metadata": {
        "colab": {
          "base_uri": "https://localhost:8080/",
          "height": 204
        },
        "id": "SdJXNjSqEpJ6",
        "outputId": "30aceb8e-5d46-4f9b-8caa-0f89d94ea0be"
      },
      "source": [
        "mapplier.predicted_df.head()\n"
      ],
      "execution_count": null,
      "outputs": [
        {
          "output_type": "execute_result",
          "data": {
            "text/html": [
              "<div>\n",
              "<style scoped>\n",
              "    .dataframe tbody tr th:only-of-type {\n",
              "        vertical-align: middle;\n",
              "    }\n",
              "\n",
              "    .dataframe tbody tr th {\n",
              "        vertical-align: top;\n",
              "    }\n",
              "\n",
              "    .dataframe thead th {\n",
              "        text-align: right;\n",
              "    }\n",
              "</style>\n",
              "<table border=\"1\" class=\"dataframe\">\n",
              "  <thead>\n",
              "    <tr style=\"text-align: right;\">\n",
              "      <th></th>\n",
              "      <th>text</th>\n",
              "      <th>predicted label</th>\n",
              "      <th>probability for positive label</th>\n",
              "    </tr>\n",
              "  </thead>\n",
              "  <tbody>\n",
              "    <tr>\n",
              "      <th>0</th>\n",
              "      <td>RT @crackcobain__: McDonald’s breakfast deserv...</td>\n",
              "      <td>1</td>\n",
              "      <td>0.77507</td>\n",
              "    </tr>\n",
              "    <tr>\n",
              "      <th>1</th>\n",
              "      <td>@plankdaddy @Whiteboyramen1 @sherman21 @Robill...</td>\n",
              "      <td>1</td>\n",
              "      <td>0.87189</td>\n",
              "    </tr>\n",
              "    <tr>\n",
              "      <th>2</th>\n",
              "      <td>RT @CieThePisces: @YoungJazzyHo @TMZ Someone c...</td>\n",
              "      <td>1</td>\n",
              "      <td>0.60780</td>\n",
              "    </tr>\n",
              "    <tr>\n",
              "      <th>3</th>\n",
              "      <td>McDonald’s has an iced pumpkin spice coffee an...</td>\n",
              "      <td>1</td>\n",
              "      <td>0.90231</td>\n",
              "    </tr>\n",
              "    <tr>\n",
              "      <th>4</th>\n",
              "      <td>RT @JJHTweets: This hasn't aged well.... @Nige...</td>\n",
              "      <td>0</td>\n",
              "      <td>0.44425</td>\n",
              "    </tr>\n",
              "  </tbody>\n",
              "</table>\n",
              "</div>"
            ],
            "text/plain": [
              "                                                text  ...  probability for positive label\n",
              "0  RT @crackcobain__: McDonald’s breakfast deserv...  ...                         0.77507\n",
              "1  @plankdaddy @Whiteboyramen1 @sherman21 @Robill...  ...                         0.87189\n",
              "2  RT @CieThePisces: @YoungJazzyHo @TMZ Someone c...  ...                         0.60780\n",
              "3  McDonald’s has an iced pumpkin spice coffee an...  ...                         0.90231\n",
              "4  RT @JJHTweets: This hasn't aged well.... @Nige...  ...                         0.44425\n",
              "\n",
              "[5 rows x 3 columns]"
            ]
          },
          "metadata": {},
          "execution_count": 29
        }
      ]
    }
  ]
}